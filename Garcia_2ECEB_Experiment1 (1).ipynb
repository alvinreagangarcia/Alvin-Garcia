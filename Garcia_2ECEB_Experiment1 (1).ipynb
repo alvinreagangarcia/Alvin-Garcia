{
 "cells": [
  {
   "cell_type": "raw",
   "id": "85c89b58-4eff-4806-b151-c38a1ba37e7f",
   "metadata": {},
   "source": [
    "EXPERIMENT 1\n",
    "Gacia, Alvin Reagan D.\n",
    "2ECE-B\n",
    "08/28/25"
   ]
  },
  {
   "cell_type": "raw",
   "id": "7ff7f5f7-a8b1-41a2-9a12-34fc4cc19710",
   "metadata": {},
   "source": [
    "1. ALPHABETICAL SOUP"
   ]
  },
  {
   "cell_type": "code",
   "execution_count": 1,
   "id": "e905616f-752f-4030-ae54-b3bef6236f1d",
   "metadata": {},
   "outputs": [
    {
     "name": "stdin",
     "output_type": "stream",
     "text": [
      "Enter a word:  hello\n"
     ]
    },
    {
     "data": {
      "text/plain": [
       "'ehllo'"
      ]
     },
     "execution_count": 1,
     "metadata": {},
     "output_type": "execute_result"
    }
   ],
   "source": [
    "alphabet = input('Enter a word: ')\n",
    "alphabet2 = list(alphabet)\n",
    "alphabet2.sort()\n",
    "''.join (alphabet2)"
   ]
  },
  {
   "cell_type": "raw",
   "id": "f63b9a36-ea48-45ba-90ad-3dd1cfeed0be",
   "metadata": {},
   "source": [
    "2. EMOTICON PROBLEM"
   ]
  },
  {
   "cell_type": "code",
   "execution_count": 9,
   "id": "adb9f4a5-38d2-44c2-b3f8-d1cfadd62a78",
   "metadata": {},
   "outputs": [
    {
     "data": {
      "text/plain": [
       "'I am :)'"
      ]
     },
     "execution_count": 9,
     "metadata": {},
     "output_type": "execute_result"
    }
   ],
   "source": [
    "mood = str('I am happy')\n",
    "mood.replace (\"happy\",\":)\")"
   ]
  },
  {
   "cell_type": "raw",
   "id": "9933f18a-c50c-411d-90ec-1464bd9eeca3",
   "metadata": {},
   "source": [
    "3. UNPACKING LIST PROBLEM"
   ]
  },
  {
   "cell_type": "code",
   "execution_count": 10,
   "id": "3cdb57e9-5b88-405b-915b-a38a1e4d9736",
   "metadata": {},
   "outputs": [
    {
     "name": "stdout",
     "output_type": "stream",
     "text": [
      "First:  1\n",
      "Middle:  ['2', '3', '4', '5', '6']\n",
      "Last:  8\n"
     ]
    }
   ],
   "source": [
    "list = ['1', '2', '3', '4', '5', '6', '7', '8']\n",
    "list[0]\n",
    "print (\"First: \",list[0])\n",
    "list[1:6]\n",
    "print (\"Middle: \",list[1:6])\n",
    "list[7]\n",
    "print (\"Last: \",list[7])"
   ]
  }
 ],
 "metadata": {
  "kernelspec": {
   "display_name": "Python 3 (ipykernel)",
   "language": "python",
   "name": "python3"
  },
  "language_info": {
   "codemirror_mode": {
    "name": "ipython",
    "version": 3
   },
   "file_extension": ".py",
   "mimetype": "text/x-python",
   "name": "python",
   "nbconvert_exporter": "python",
   "pygments_lexer": "ipython3",
   "version": "3.13.5"
  }
 },
 "nbformat": 4,
 "nbformat_minor": 5
}
